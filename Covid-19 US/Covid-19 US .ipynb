{
 "cells": [
  {
   "cell_type": "code",
   "execution_count": 1,
   "id": "09fadbbd",
   "metadata": {},
   "outputs": [],
   "source": [
    "import pandas as pd\n",
    "\n",
    "dfP = pd.read_csv('RAW_us_confirmed_cases.csv', usecols=['Country_Region', 'Province_State', '3/9/23'])\n",
    "dfD = pd.read_csv('RAW_us_deaths.csv', usecols=['Country_Region', 'Province_State', '3/9/23'])"
   ]
  },
  {
   "cell_type": "code",
   "execution_count": 2,
   "id": "dbd5b616",
   "metadata": {},
   "outputs": [],
   "source": [
    "# Rename columns\n",
    "dfP = dfP.rename(columns={'3/9/23': 'Total Cases'})\n",
    "dfD = dfD.rename(columns={'3/9/23': 'Total Cases'})"
   ]
  },
  {
   "cell_type": "code",
   "execution_count": 3,
   "id": "82451081",
   "metadata": {},
   "outputs": [
    {
     "name": "stdout",
     "output_type": "stream",
     "text": [
      "<class 'pandas.core.frame.DataFrame'>\n",
      "RangeIndex: 3342 entries, 0 to 3341\n",
      "Data columns (total 3 columns):\n",
      " #   Column          Non-Null Count  Dtype \n",
      "---  ------          --------------  ----- \n",
      " 0   Province_State  3342 non-null   object\n",
      " 1   Country_Region  3342 non-null   object\n",
      " 2   Total Cases     3342 non-null   int64 \n",
      "dtypes: int64(1), object(2)\n",
      "memory usage: 78.5+ KB\n",
      "None\n",
      "        Total Cases\n",
      "count  3.342000e+03\n",
      "mean   3.106005e+04\n",
      "std    1.084494e+05\n",
      "min    0.000000e+00\n",
      "25%    2.917500e+03\n",
      "50%    7.750000e+03\n",
      "75%    2.034875e+04\n",
      "max    3.710586e+06\n",
      "<class 'pandas.core.frame.DataFrame'>\n",
      "RangeIndex: 3342 entries, 0 to 3341\n",
      "Data columns (total 3 columns):\n",
      " #   Column          Non-Null Count  Dtype \n",
      "---  ------          --------------  ----- \n",
      " 0   Province_State  3342 non-null   object\n",
      " 1   Country_Region  3342 non-null   object\n",
      " 2   Total Cases     3342 non-null   int64 \n",
      "dtypes: int64(1), object(2)\n",
      "memory usage: 78.5+ KB\n",
      "None\n",
      "        Total Cases\n",
      "count   3342.000000\n",
      "mean     336.276481\n",
      "std     1107.369648\n",
      "min        0.000000\n",
      "25%       39.000000\n",
      "50%      102.000000\n",
      "75%      246.750000\n",
      "max    35545.000000\n"
     ]
    }
   ],
   "source": [
    "# Get basic information\n",
    "print(dfP.info())\n",
    "print(dfP.describe())\n",
    "print(dfD.info())\n",
    "print(dfD.describe())"
   ]
  },
  {
   "cell_type": "code",
   "execution_count": 5,
   "id": "d75f4929",
   "metadata": {},
   "outputs": [
    {
     "name": "stdout",
     "output_type": "stream",
     "text": [
      "Province_State    0\n",
      "Country_Region    0\n",
      "Total Cases       0\n",
      "dtype: int64\n",
      "Province_State    0\n",
      "Country_Region    0\n",
      "Total Cases       0\n",
      "dtype: int64\n"
     ]
    }
   ],
   "source": [
    "# Check missing values\n",
    "print(dfP.isnull().sum())\n",
    "print(dfP.isnull().sum())"
   ]
  },
  {
   "cell_type": "code",
   "execution_count": 6,
   "id": "127229df",
   "metadata": {},
   "outputs": [],
   "source": [
    "# Save to CSV\n",
    "dfP.to_csv('US Covid-19 Positive Cases.csv', index=False)\n",
    "dfD.to_csv('US Covid-19 Deaths Cases.csv', index=False)"
   ]
  },
  {
   "cell_type": "code",
   "execution_count": null,
   "id": "a9814ddf",
   "metadata": {},
   "outputs": [],
   "source": []
  }
 ],
 "metadata": {
  "kernelspec": {
   "display_name": "Python 3 (ipykernel)",
   "language": "python",
   "name": "python3"
  },
  "language_info": {
   "codemirror_mode": {
    "name": "ipython",
    "version": 3
   },
   "file_extension": ".py",
   "mimetype": "text/x-python",
   "name": "python",
   "nbconvert_exporter": "python",
   "pygments_lexer": "ipython3",
   "version": "3.9.13"
  }
 },
 "nbformat": 4,
 "nbformat_minor": 5
}
