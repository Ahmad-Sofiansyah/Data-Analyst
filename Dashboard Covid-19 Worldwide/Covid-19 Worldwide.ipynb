{
 "cells": [
  {
   "cell_type": "code",
   "execution_count": 1,
   "id": "5d6e312b",
   "metadata": {},
   "outputs": [],
   "source": [
    "import pandas as pd\n",
    "\n",
    "dfP = pd.read_csv('RAW_global_confirmed_cases.csv', usecols=['Country/Region', 'Province/State', '3/9/23'])\n",
    "dfD = pd.read_csv('RAW_global_deaths.csv', usecols=['Country/Region', 'Province/State', '3/9/23'])"
   ]
  },
  {
   "cell_type": "code",
   "execution_count": 2,
   "id": "da7f7888",
   "metadata": {},
   "outputs": [],
   "source": [
    "# Rename columns\n",
    "dfP = dfP.rename(columns={'3/9/23': 'Total Positive Cases'})\n",
    "dfD = dfD.rename(columns={'3/9/23': 'Total Deaths Cases'})"
   ]
  },
  {
   "cell_type": "code",
   "execution_count": 3,
   "id": "6b03ad6f",
   "metadata": {},
   "outputs": [
    {
     "name": "stdout",
     "output_type": "stream",
     "text": [
      "<class 'pandas.core.frame.DataFrame'>\n",
      "RangeIndex: 289 entries, 0 to 288\n",
      "Data columns (total 3 columns):\n",
      " #   Column                Non-Null Count  Dtype \n",
      "---  ------                --------------  ----- \n",
      " 0   Country/Region        289 non-null    object\n",
      " 1   Province/State        91 non-null     object\n",
      " 2   Total Positive Cases  289 non-null    int64 \n",
      "dtypes: int64(1), object(2)\n",
      "memory usage: 6.9+ KB\n",
      "None\n",
      "       Total Positive Cases\n",
      "count          2.890000e+02\n",
      "mean           2.341073e+06\n",
      "std            8.527765e+06\n",
      "min            0.000000e+00\n",
      "25%            1.456700e+04\n",
      "50%            1.032480e+05\n",
      "75%            1.053213e+06\n",
      "max            1.038027e+08\n",
      "<class 'pandas.core.frame.DataFrame'>\n",
      "RangeIndex: 289 entries, 0 to 288\n",
      "Data columns (total 3 columns):\n",
      " #   Column              Non-Null Count  Dtype \n",
      "---  ------              --------------  ----- \n",
      " 0   Country/Region      289 non-null    object\n",
      " 1   Province/State      91 non-null     object\n",
      " 2   Total Deaths Cases  289 non-null    int64 \n",
      "dtypes: int64(1), object(2)\n",
      "memory usage: 6.9+ KB\n",
      "None\n",
      "       Total Deaths Cases\n",
      "count        2.890000e+02\n",
      "mean         2.381246e+04\n",
      "std          9.355567e+04\n",
      "min          0.000000e+00\n",
      "25%          6.600000e+01\n",
      "50%          9.520000e+02\n",
      "75%          8.727000e+03\n",
      "max          1.123836e+06\n"
     ]
    }
   ],
   "source": [
    "# Get basic information\n",
    "print(dfP.info())\n",
    "print(dfP.describe())\n",
    "print(dfD.info())\n",
    "print(dfD.describe())"
   ]
  },
  {
   "cell_type": "code",
   "execution_count": 4,
   "id": "e3e1755b",
   "metadata": {},
   "outputs": [],
   "source": [
    "# Save to CSV\n",
    "dfP.to_csv('Covid-19 Positive Cases.csv', index=False)\n",
    "dfD.to_csv('Covid-19 Deaths Cases.csv', index=False)"
   ]
  },
  {
   "cell_type": "code",
   "execution_count": null,
   "id": "11b27ea8",
   "metadata": {},
   "outputs": [],
   "source": []
  }
 ],
 "metadata": {
  "kernelspec": {
   "display_name": "Python 3 (ipykernel)",
   "language": "python",
   "name": "python3"
  },
  "language_info": {
   "codemirror_mode": {
    "name": "ipython",
    "version": 3
   },
   "file_extension": ".py",
   "mimetype": "text/x-python",
   "name": "python",
   "nbconvert_exporter": "python",
   "pygments_lexer": "ipython3",
   "version": "3.9.13"
  }
 },
 "nbformat": 4,
 "nbformat_minor": 5
}
