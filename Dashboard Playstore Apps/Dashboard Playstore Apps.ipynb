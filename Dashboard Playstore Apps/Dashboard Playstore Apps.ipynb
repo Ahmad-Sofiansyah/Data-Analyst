{
 "cells": [
  {
   "cell_type": "code",
   "execution_count": 11,
   "id": "234ca0e6",
   "metadata": {},
   "outputs": [],
   "source": [
    "import pandas as pd\n",
    "\n",
    "df = pd.read_csv('Google-Playstore.csv', usecols=['App Name', 'Category', 'Maximum Installs', 'Released', 'Developer Id'])"
   ]
  },
  {
   "cell_type": "code",
   "execution_count": 12,
   "id": "e6db4ea0",
   "metadata": {},
   "outputs": [],
   "source": [
    "# Rename columns\n",
    "df = df.rename(columns={'Maximum Installs': 'Downloaded'})"
   ]
  },
  {
   "cell_type": "code",
   "execution_count": 13,
   "id": "449afafa",
   "metadata": {},
   "outputs": [
    {
     "name": "stdout",
     "output_type": "stream",
     "text": [
      "<class 'pandas.core.frame.DataFrame'>\n",
      "RangeIndex: 2312944 entries, 0 to 2312943\n",
      "Data columns (total 5 columns):\n",
      " #   Column        Dtype \n",
      "---  ------        ----- \n",
      " 0   App Name      object\n",
      " 1   Category      object\n",
      " 2   Downloaded    int64 \n",
      " 3   Developer Id  object\n",
      " 4   Released      object\n",
      "dtypes: int64(1), object(4)\n",
      "memory usage: 88.2+ MB\n",
      "None\n",
      "         Downloaded\n",
      "count  2.312944e+06\n",
      "mean   3.202017e+05\n",
      "std    2.355495e+07\n",
      "min    0.000000e+00\n",
      "25%    8.400000e+01\n",
      "50%    6.950000e+02\n",
      "75%    7.354000e+03\n",
      "max    1.205763e+10\n"
     ]
    }
   ],
   "source": [
    "# Get basic information\n",
    "print(df.info())\n",
    "print(df.describe())"
   ]
  },
  {
   "cell_type": "code",
   "execution_count": 14,
   "id": "f2440a6c",
   "metadata": {},
   "outputs": [
    {
     "name": "stdout",
     "output_type": "stream",
     "text": [
      "App Name            2\n",
      "Category            0\n",
      "Downloaded          0\n",
      "Developer Id       33\n",
      "Released        71053\n",
      "dtype: int64\n"
     ]
    }
   ],
   "source": [
    "# Check missing values\n",
    "print(df.isnull().sum())"
   ]
  },
  {
   "cell_type": "code",
   "execution_count": 15,
   "id": "e8273cf0",
   "metadata": {},
   "outputs": [
    {
     "name": "stdout",
     "output_type": "stream",
     "text": [
      "App Name        0\n",
      "Category        0\n",
      "Downloaded      0\n",
      "Developer Id    0\n",
      "Released        0\n",
      "dtype: int64\n"
     ]
    }
   ],
   "source": [
    "# Remove missing values\n",
    "df = df.dropna()\n",
    "\n",
    "# Verify\n",
    "print(df.isnull().sum())"
   ]
  },
  {
   "cell_type": "code",
   "execution_count": 19,
   "id": "d638f86e",
   "metadata": {},
   "outputs": [
    {
     "data": {
      "text/html": [
       "<div>\n",
       "<style scoped>\n",
       "    .dataframe tbody tr th:only-of-type {\n",
       "        vertical-align: middle;\n",
       "    }\n",
       "\n",
       "    .dataframe tbody tr th {\n",
       "        vertical-align: top;\n",
       "    }\n",
       "\n",
       "    .dataframe thead th {\n",
       "        text-align: right;\n",
       "    }\n",
       "</style>\n",
       "<table border=\"1\" class=\"dataframe\">\n",
       "  <thead>\n",
       "    <tr style=\"text-align: right;\">\n",
       "      <th></th>\n",
       "      <th>App Name</th>\n",
       "      <th>Category</th>\n",
       "      <th>Downloaded</th>\n",
       "      <th>Developer Id</th>\n",
       "      <th>Released</th>\n",
       "    </tr>\n",
       "  </thead>\n",
       "  <tbody>\n",
       "    <tr>\n",
       "      <th>0</th>\n",
       "      <td>Gakondo</td>\n",
       "      <td>Adventure</td>\n",
       "      <td>15</td>\n",
       "      <td>Jean Confident Irénée NIYIZIBYOSE</td>\n",
       "      <td>Feb 26, 2020</td>\n",
       "    </tr>\n",
       "    <tr>\n",
       "      <th>1</th>\n",
       "      <td>Ampere Battery Info</td>\n",
       "      <td>Tools</td>\n",
       "      <td>7662</td>\n",
       "      <td>Webserveis</td>\n",
       "      <td>May 21, 2020</td>\n",
       "    </tr>\n",
       "    <tr>\n",
       "      <th>2</th>\n",
       "      <td>Vibook</td>\n",
       "      <td>Productivity</td>\n",
       "      <td>58</td>\n",
       "      <td>Cabin Crew</td>\n",
       "      <td>Aug 9, 2019</td>\n",
       "    </tr>\n",
       "    <tr>\n",
       "      <th>3</th>\n",
       "      <td>Smart City Trichy Public Service Vehicles 17UC...</td>\n",
       "      <td>Communication</td>\n",
       "      <td>19</td>\n",
       "      <td>Climate Smart Tech2</td>\n",
       "      <td>Sep 10, 2018</td>\n",
       "    </tr>\n",
       "    <tr>\n",
       "      <th>4</th>\n",
       "      <td>GROW.me</td>\n",
       "      <td>Tools</td>\n",
       "      <td>478</td>\n",
       "      <td>Rafal Milek-Horodyski</td>\n",
       "      <td>Feb 21, 2020</td>\n",
       "    </tr>\n",
       "    <tr>\n",
       "      <th>...</th>\n",
       "      <td>...</td>\n",
       "      <td>...</td>\n",
       "      <td>...</td>\n",
       "      <td>...</td>\n",
       "      <td>...</td>\n",
       "    </tr>\n",
       "    <tr>\n",
       "      <th>2312938</th>\n",
       "      <td>Lero TOEFL Recorder + Timer</td>\n",
       "      <td>Education</td>\n",
       "      <td>1980</td>\n",
       "      <td>Julio Augusto Vera</td>\n",
       "      <td>May 22, 2018</td>\n",
       "    </tr>\n",
       "    <tr>\n",
       "      <th>2312940</th>\n",
       "      <td>ORU Online</td>\n",
       "      <td>Education</td>\n",
       "      <td>430</td>\n",
       "      <td>3Dream Studios, LLC</td>\n",
       "      <td>Jan 17, 2018</td>\n",
       "    </tr>\n",
       "    <tr>\n",
       "      <th>2312941</th>\n",
       "      <td>Data Structure</td>\n",
       "      <td>Education</td>\n",
       "      <td>202</td>\n",
       "      <td>appoworld</td>\n",
       "      <td>Aug 19, 2018</td>\n",
       "    </tr>\n",
       "    <tr>\n",
       "      <th>2312942</th>\n",
       "      <td>Devi Suktam</td>\n",
       "      <td>Music &amp; Audio</td>\n",
       "      <td>2635</td>\n",
       "      <td>Bhakti</td>\n",
       "      <td>Aug 1, 2016</td>\n",
       "    </tr>\n",
       "    <tr>\n",
       "      <th>2312943</th>\n",
       "      <td>Biliyor Musun - Sonsuz Yarış</td>\n",
       "      <td>Trivia</td>\n",
       "      <td>354</td>\n",
       "      <td>Y Yazılım</td>\n",
       "      <td>Aug 9, 2019</td>\n",
       "    </tr>\n",
       "  </tbody>\n",
       "</table>\n",
       "<p>2241858 rows × 5 columns</p>\n",
       "</div>"
      ],
      "text/plain": [
       "                                                  App Name       Category  \\\n",
       "0                                                  Gakondo      Adventure   \n",
       "1                                      Ampere Battery Info          Tools   \n",
       "2                                                   Vibook   Productivity   \n",
       "3        Smart City Trichy Public Service Vehicles 17UC...  Communication   \n",
       "4                                                  GROW.me          Tools   \n",
       "...                                                    ...            ...   \n",
       "2312938                        Lero TOEFL Recorder + Timer      Education   \n",
       "2312940                                         ORU Online      Education   \n",
       "2312941                                     Data Structure      Education   \n",
       "2312942                                        Devi Suktam  Music & Audio   \n",
       "2312943                       Biliyor Musun - Sonsuz Yarış         Trivia   \n",
       "\n",
       "         Downloaded                       Developer Id      Released  \n",
       "0                15  Jean Confident Irénée NIYIZIBYOSE  Feb 26, 2020  \n",
       "1              7662                         Webserveis  May 21, 2020  \n",
       "2                58                         Cabin Crew   Aug 9, 2019  \n",
       "3                19                Climate Smart Tech2  Sep 10, 2018  \n",
       "4               478              Rafal Milek-Horodyski  Feb 21, 2020  \n",
       "...             ...                                ...           ...  \n",
       "2312938        1980                 Julio Augusto Vera  May 22, 2018  \n",
       "2312940         430                3Dream Studios, LLC  Jan 17, 2018  \n",
       "2312941         202                          appoworld  Aug 19, 2018  \n",
       "2312942        2635                             Bhakti   Aug 1, 2016  \n",
       "2312943         354                          Y Yazılım   Aug 9, 2019  \n",
       "\n",
       "[2241858 rows x 5 columns]"
      ]
     },
     "execution_count": 19,
     "metadata": {},
     "output_type": "execute_result"
    }
   ],
   "source": [
    "# Save to CSV\n",
    "df.to_csv('Dashboard Playstore Apps.csv', index=False)"
   ]
  },
  {
   "cell_type": "code",
   "execution_count": null,
   "id": "2b90e58b",
   "metadata": {},
   "outputs": [],
   "source": []
  }
 ],
 "metadata": {
  "kernelspec": {
   "display_name": "Python 3 (ipykernel)",
   "language": "python",
   "name": "python3"
  },
  "language_info": {
   "codemirror_mode": {
    "name": "ipython",
    "version": 3
   },
   "file_extension": ".py",
   "mimetype": "text/x-python",
   "name": "python",
   "nbconvert_exporter": "python",
   "pygments_lexer": "ipython3",
   "version": "3.9.13"
  }
 },
 "nbformat": 4,
 "nbformat_minor": 5
}
