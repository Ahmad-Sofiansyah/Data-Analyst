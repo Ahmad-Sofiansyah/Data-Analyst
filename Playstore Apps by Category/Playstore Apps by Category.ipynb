{
 "cells": [
  {
   "cell_type": "code",
   "execution_count": 1,
   "id": "e66be9ac",
   "metadata": {},
   "outputs": [],
   "source": [
    "import pandas as pd\n",
    "\n",
    "df = pd.read_csv('Google-Playstore.csv', usecols=['App Name', 'Category', 'Maximum Installs'])"
   ]
  },
  {
   "cell_type": "code",
   "execution_count": 2,
   "id": "3e74a90e",
   "metadata": {},
   "outputs": [],
   "source": [
    "# Rename columns\n",
    "df = df.rename(columns={'Maximum Installs': 'Downloaded'})"
   ]
  },
  {
   "cell_type": "code",
   "execution_count": 3,
   "id": "a2709b98",
   "metadata": {},
   "outputs": [
    {
     "name": "stdout",
     "output_type": "stream",
     "text": [
      "<class 'pandas.core.frame.DataFrame'>\n",
      "RangeIndex: 2312944 entries, 0 to 2312943\n",
      "Data columns (total 3 columns):\n",
      " #   Column      Dtype \n",
      "---  ------      ----- \n",
      " 0   App Name    object\n",
      " 1   Category    object\n",
      " 2   Downloaded  int64 \n",
      "dtypes: int64(1), object(2)\n",
      "memory usage: 52.9+ MB\n",
      "None\n",
      "         Downloaded\n",
      "count  2.312944e+06\n",
      "mean   3.202017e+05\n",
      "std    2.355495e+07\n",
      "min    0.000000e+00\n",
      "25%    8.400000e+01\n",
      "50%    6.950000e+02\n",
      "75%    7.354000e+03\n",
      "max    1.205763e+10\n"
     ]
    }
   ],
   "source": [
    "# Get basic information\n",
    "print(df.info())\n",
    "print(df.describe())"
   ]
  },
  {
   "cell_type": "code",
   "execution_count": 4,
   "id": "eb51fdf5",
   "metadata": {},
   "outputs": [
    {
     "name": "stdout",
     "output_type": "stream",
     "text": [
      "App Name      2\n",
      "Category      0\n",
      "Downloaded    0\n",
      "dtype: int64\n"
     ]
    }
   ],
   "source": [
    "# Check missing values\n",
    "print(df.isnull().sum())"
   ]
  },
  {
   "cell_type": "code",
   "execution_count": 5,
   "id": "eb7cdb36",
   "metadata": {},
   "outputs": [
    {
     "name": "stdout",
     "output_type": "stream",
     "text": [
      "App Name      0\n",
      "Category      0\n",
      "Downloaded    0\n",
      "dtype: int64\n"
     ]
    }
   ],
   "source": [
    "# Remove missing values\n",
    "df = df.dropna()\n",
    "\n",
    "# Verify\n",
    "print(df.isnull().sum())"
   ]
  },
  {
   "cell_type": "code",
   "execution_count": 7,
   "id": "451b6b4d",
   "metadata": {},
   "outputs": [],
   "source": [
    "# Save to CSV\n",
    "df.to_csv('Playstore Apps by Category.csv', index=False)"
   ]
  },
  {
   "cell_type": "code",
   "execution_count": null,
   "id": "05e919c4",
   "metadata": {},
   "outputs": [],
   "source": []
  }
 ],
 "metadata": {
  "kernelspec": {
   "display_name": "Python 3 (ipykernel)",
   "language": "python",
   "name": "python3"
  },
  "language_info": {
   "codemirror_mode": {
    "name": "ipython",
    "version": 3
   },
   "file_extension": ".py",
   "mimetype": "text/x-python",
   "name": "python",
   "nbconvert_exporter": "python",
   "pygments_lexer": "ipython3",
   "version": "3.9.13"
  }
 },
 "nbformat": 4,
 "nbformat_minor": 5
}
